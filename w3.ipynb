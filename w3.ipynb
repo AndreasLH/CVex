{
 "cells": [
  {
   "cell_type": "code",
   "execution_count": 3,
   "metadata": {},
   "outputs": [],
   "source": [
    "from scipy.spatial.transform import Rotation \n",
    "import numpy as np\n",
    "import matplotlib.pyplot as plt\n",
    "import cv2"
   ]
  },
  {
   "cell_type": "code",
   "execution_count": 4,
   "metadata": {},
   "outputs": [],
   "source": [
    "def Pi(p:np.ndarray) -> np.ndarray:\n",
    "    \"\"\"convert from homogeneous coordinates to inhomogeneous coordinates\n",
    "\n",
    "    subtract one coordinate\"\"\"\n",
    "    if isinstance(p, np.ndarray):\n",
    "        return p[:-1]/p[-1]\n",
    "    elif isinstance(p, list):\n",
    "        return [Pi(np.array(p_)) for p_ in p]\n",
    "\n",
    "def PiInv(p:np.ndarray) -> np.ndarray:\n",
    "    \"\"\"convert from inhomogeneous coordinates to homogeneous coordinates\n",
    "\n",
    "    add one coordinate with value 1\"\"\"\n",
    "    if isinstance(p, np.ndarray):\n",
    "        return np.vstack((p, np.ones(p.shape[1])))\n",
    "    elif isinstance(p, list):\n",
    "        return [PiInv(np.array(p_)) for p_ in p]\n",
    "\n",
    "def projectpoints(K, R, t, Q):\n",
    "    \"\"\"project 3D points to 2D\"\"\"\n",
    "    Rt = np.concatenate((R, t), axis=1)\n",
    "    return Pi(K @ Rt @ PiInv(Q))"
   ]
  },
  {
   "cell_type": "code",
   "execution_count": 5,
   "metadata": {},
   "outputs": [],
   "source": [
    "R2 = Rotation.from_euler('xyz', [0.7, -0.5, 0.8]).as_matrix()\n",
    "K = np.array([[1000, 0, 300], [0, 1000, 200], [0, 0, 1]])\n",
    "R1 = np.eye(3)\n",
    "t1 = np.array([[0, 0, 0]]).T\n",
    "t2 = np.array([[0.2, 2, 1]]).T\n",
    "Cam1 = np.concatenate((R1, t1), axis=1)\n",
    "Cam2 = np.concatenate((R2, t2), axis=1)"
   ]
  },
  {
   "cell_type": "code",
   "execution_count": 6,
   "metadata": {},
   "outputs": [],
   "source": [
    "# Ex 3.1\n",
    "Q = np.array([[1,0.5,4,1]]).T \n",
    "# 3D point in homogeneous coordinates a bit silly since I'm converting back to imhomogeneous coordinates to use with projectpoints\n",
    "q1 = projectpoints(K, R1, t1, Pi(Q))\n",
    "q2 = projectpoints(K, R2, t2, Pi(Q))"
   ]
  },
  {
   "cell_type": "code",
   "execution_count": 7,
   "metadata": {},
   "outputs": [
    {
     "data": {
      "text/plain": [
       "(array([[550.],\n",
       "        [325.]]),\n",
       " array([[582.47256835],\n",
       "        [185.98985776]]))"
      ]
     },
     "execution_count": 7,
     "metadata": {},
     "output_type": "execute_result"
    }
   ],
   "source": [
    "q1, q2 # correct"
   ]
  },
  {
   "cell_type": "code",
   "execution_count": 8,
   "metadata": {},
   "outputs": [
    {
     "data": {
      "text/plain": [
       "(array([[-54],\n",
       "        [ 66],\n",
       "        [-21]]),\n",
       " array([-54,  66, -21]))"
      ]
     },
     "execution_count": 8,
     "metadata": {},
     "output_type": "execute_result"
    }
   ],
   "source": [
    "# 3.2\n",
    "def crossOp(a:np.ndarray) -> np.ndarray:\n",
    "    \"\"\"crossproduct operator\"\"\"\n",
    "    x = a[0].item()\n",
    "    y = a[1].item()\n",
    "    z = a[2].item()\n",
    "    return np.array([[0, -z, y], [z, 0, -x], [-y, x, 0]])\n",
    "# check that it works by comparing with numpy.cross\n",
    "x = np.array([[3,5,8]]).T\n",
    "y = np.array([[9,8,2]]).T\n",
    "crossOp(x) @ y, np.cross(x.ravel(),y.ravel())"
   ]
  },
  {
   "cell_type": "code",
   "execution_count": 9,
   "metadata": {},
   "outputs": [
    {
     "data": {
      "text/plain": [
       "array([[ 3.29311881e-07,  8.19396327e-07,  1.79162592e-03],\n",
       "       [ 5.15532551e-07, -8.76915984e-07,  9.31426656e-05],\n",
       "       [-1.29882755e-03,  1.51951700e-03, -1.10072682e+00]])"
      ]
     },
     "execution_count": 9,
     "metadata": {},
     "output_type": "execute_result"
    }
   ],
   "source": [
    "# 3.3\n",
    "def compute_fundamental_matrix(K1, K2, R2, t2):\n",
    "    \"\"\"compute fundamental matrix from camera matrices\"\"\"\n",
    "    E = crossOp(t2) @ R2\n",
    "    F = np.linalg.inv(K2).T @ E @ np.linalg.inv(K1)\n",
    "    return F\n",
    "F = compute_fundamental_matrix(K, K, R2, t2)\n",
    "F"
   ]
  },
  {
   "cell_type": "code",
   "execution_count": 10,
   "metadata": {},
   "outputs": [
    {
     "data": {
      "text/plain": [
       "4.440892098500626e-16"
      ]
     },
     "execution_count": 10,
     "metadata": {},
     "output_type": "execute_result"
    }
   ],
   "source": [
    "PiInv(q2).T.ravel() @ F @ PiInv(q1).ravel() # should be zero"
   ]
  },
  {
   "cell_type": "code",
   "execution_count": 11,
   "metadata": {},
   "outputs": [
    {
     "data": {
      "text/plain": [
       "array([[ 2.23905126e-03],\n",
       "       [ 9.16878739e-05],\n",
       "       [-1.32123895e+00]])"
      ]
     },
     "execution_count": 11,
     "metadata": {},
     "output_type": "execute_result"
    }
   ],
   "source": [
    "# 3.4 epipolar lines\n",
    "def compute_epipolar_lines(F, Q):\n",
    "    \"\"\"compute epipolar lines for each point in Q\"\"\"\n",
    "    return F @ PiInv(Q)\n",
    "l1 = compute_epipolar_lines(F, q1)\n",
    "l1"
   ]
  },
  {
   "cell_type": "code",
   "execution_count": 12,
   "metadata": {},
   "outputs": [
    {
     "data": {
      "text/plain": [
       "(array([[-1.69466035e-03],\n",
       "        [-6.93953760e-05]]),\n",
       " array([[-1.69460738e-03],\n",
       "        [-6.94039735e-05]]))"
      ]
     },
     "execution_count": 12,
     "metadata": {},
     "output_type": "execute_result"
    }
   ],
   "source": [
    "Pi(l1), Pi(np.array([[8.956e-3, 3.668e-4, -5.285]]).T) # check with solution is it correct"
   ]
  },
  {
   "cell_type": "code",
   "execution_count": 13,
   "metadata": {},
   "outputs": [
    {
     "data": {
      "text/plain": [
       "array([[4.4408921e-16]])"
      ]
     },
     "execution_count": 13,
     "metadata": {},
     "output_type": "execute_result"
    }
   ],
   "source": [
    "# 3.5 q2 on the epipolar lines of 3.4\n",
    "PiInv(q2).T @ l1 # should be 0\n",
    "# why this is the case: both the point q2 and the line l are derived from the same 3D point Q. This 3D point yields a single epipolar plane, and the plane yields a single line in each camera. The projections of the 3D point must lie on the epipolar lines."
   ]
  },
  {
   "cell_type": "code",
   "execution_count": 59,
   "metadata": {},
   "outputs": [],
   "source": [
    "# 3.6 analytically\n",
    "# 3.7 analytically\n",
    "# 3.8\n",
    "data = np.load('data/TwoImageDataCar.npy', allow_pickle=True).item()\n",
    "im1, im2, R1, R2, t1, t2, K = data['im1'], data['im2'], data['R1'], data['R2'], data['t1'], data['t2'], data['K']"
   ]
  },
  {
   "cell_type": "code",
   "execution_count": 60,
   "metadata": {},
   "outputs": [],
   "source": [
    "F = compute_fundamental_matrix(K, K, R2, t2)"
   ]
  },
  {
   "cell_type": "code",
   "execution_count": 61,
   "metadata": {},
   "outputs": [],
   "source": [
    "# 3.9\n",
    "def DrawLine(l, shape, ax):\n",
    "    \"\"\"Checks where the line intersects the four sides of the image and finds the two intersections that are within the frame\"\"\"\n",
    "    def in_frame(l_im):\n",
    "        q = np.cross(l.flatten(), l_im)\n",
    "        q = q[:2]/q[2]\n",
    "        if all(q>=0) and all(q+1<=shape[1::-1]):\n",
    "            return q\n",
    "    lines = [[1, 0, 0], [0, 1, 0], [1, 0, 1-shape[1]], [0, 1, 1-shape[0]]]\n",
    "    P = [in_frame(l_im) for l_im in lines if in_frame(l_im) is not None]\n",
    "    ax.plot(*np.array(P).T, 'r-')"
   ]
  },
  {
   "cell_type": "code",
   "execution_count": 63,
   "metadata": {},
   "outputs": [],
   "source": [
    "%matplotlib qt\n",
    "fig, ax = plt.subplots(1,2, figsize=(10,5))\n",
    "fig.suptitle('Click on a point in im1 to draw the epipolar line in im2')\n",
    "ax[0].imshow(im1, cmap='gray'); ax[0].set_title('im1')\n",
    "ax[1].imshow(im2, cmap='gray'); ax[1].set_title('im2')\n",
    "x, y = plt.ginput(1, mouse_stop='q',timeout=5)[0]\n",
    "\n",
    "ax[0].plot(x, y, 'r+')\n",
    "l = F @ PiInv(np.array([[x, y]]).T)\n",
    "DrawLine(l, im2.shape, ax[1])"
   ]
  },
  {
   "cell_type": "code",
   "execution_count": 67,
   "metadata": {},
   "outputs": [],
   "source": [
    "# 3.10\n",
    "fig, ax = plt.subplots(1,2, figsize=(10,5))\n",
    "fig.suptitle('Click on a point in im2 to draw the epipolar line in im1')\n",
    "ax[0].imshow(im1, cmap='gray'); ax[0].set_title('im1')\n",
    "ax[1].imshow(im2, cmap='gray'); ax[1].set_title('im2')\n",
    "x, y = plt.ginput(1, mouse_stop='q',timeout=5)[0]\n",
    "\n",
    "ax[1].plot(x, y, 'r+')\n",
    "# I'm not sure if you actually need to do this\n",
    "# since there seems to be no visual difference\n",
    "# e.q. (19) from exercises\n",
    "R2t = R2 @ R1.T \n",
    "t2t = t2 - R2t @ t1\n",
    "F = compute_fundamental_matrix(K, K, R2t, t2t)\n",
    "l = F @ PiInv(np.array([[x, y]]).T)\n",
    "DrawLine(l, im1.shape, ax[0])"
   ]
  },
  {
   "cell_type": "code",
   "execution_count": 217,
   "metadata": {},
   "outputs": [],
   "source": [
    "# 3.11\n",
    "%matplotlib inline\n",
    "def triangulate(qs: list, Ps:list):\n",
    "    \"\"\"triangulate points from multiple cameras\"\"\"\n",
    "    B = np.zeros((len(Ps)*2, Ps[0].shape[1]))\n",
    "    for i, (q, p) in enumerate(zip(qs, Ps)):\n",
    "        x, y = q\n",
    "        x, y = x.item(), y.item()\n",
    "        B[i*2, :] = p[2]*x - p[0]\n",
    "        B[(i*2)+1, :] = p[2]*y - p[1]\n",
    "    u, s, vh = np.linalg.svd(B)\n",
    "    v = vh.T\n",
    "    Q = v[:,-1]\n",
    "    return Q.T / Q[-1] # not sure about dividing since the norm is no longer 1."
   ]
  },
  {
   "cell_type": "code",
   "execution_count": 220,
   "metadata": {},
   "outputs": [
    {
     "data": {
      "text/plain": [
       "array([[ 0.],\n",
       "       [ 0.],\n",
       "       [10.],\n",
       "       [ 1.]])"
      ]
     },
     "execution_count": 220,
     "metadata": {},
     "output_type": "execute_result"
    }
   ],
   "source": [
    "q1 = np.array([[300, 160]]).T\n",
    "q2 = np.array([[300, 640]]).T\n",
    "P1 = np.array([[800, 0, 300, 0], \n",
    "               [0, 800, 400, -2400],\n",
    "               [0, 0, 1, 0]])\n",
    "P2 = np.array([[800, 0, 300, 0],\n",
    "               [0, 800, 400, 2400],\n",
    "               [0, 0, 1, 0]])\n",
    "\n",
    "Q = triangulate([q1, q2], [P1, P2])\n",
    "Q.shape\n",
    "Q.reshape(4,1) # solution = [0, 0, 10, 1]"
   ]
  },
  {
   "cell_type": "code",
   "execution_count": 221,
   "metadata": {},
   "outputs": [
    {
     "data": {
      "text/plain": [
       "10.04987562112089"
      ]
     },
     "execution_count": 221,
     "metadata": {},
     "output_type": "execute_result"
    }
   ],
   "source": [
    "np.linalg.norm(Q)"
   ]
  }
 ],
 "metadata": {
  "kernelspec": {
   "display_name": "ML_ops_sd",
   "language": "python",
   "name": "python3"
  },
  "language_info": {
   "codemirror_mode": {
    "name": "ipython",
    "version": 3
   },
   "file_extension": ".py",
   "mimetype": "text/x-python",
   "name": "python",
   "nbconvert_exporter": "python",
   "pygments_lexer": "ipython3",
   "version": "3.10.8"
  },
  "orig_nbformat": 4,
  "vscode": {
   "interpreter": {
    "hash": "c663aff0290cf11fb74ff5ce1306827b85661737bf5a2773b3beb84dfe8b605e"
   }
  }
 },
 "nbformat": 4,
 "nbformat_minor": 2
}
