{
 "cells": [
  {
   "cell_type": "code",
   "execution_count": 1,
   "metadata": {},
   "outputs": [],
   "source": [
    "import cv2\n",
    "import numpy as np\n",
    "import matplotlib.pyplot as plt"
   ]
  },
  {
   "cell_type": "code",
   "execution_count": 2,
   "metadata": {},
   "outputs": [
    {
     "data": {
      "text/plain": [
       "array([[760.41876032],\n",
       "       [423.38000917]])"
      ]
     },
     "execution_count": 2,
     "metadata": {},
     "output_type": "execute_result"
    }
   ],
   "source": [
    "def Pi(p:np.ndarray) -> np.ndarray:\n",
    "    \"\"\"convert from homogeneous coordinates to inhomogeneous coordinates\n",
    "\n",
    "    subtract one coordinate\"\"\"\n",
    "    return p[:-1]/p[-1] \n",
    "\n",
    "def PiInv(p:np.ndarray) -> np.ndarray:\n",
    "    \"\"\"convert from inhomogeneous coordinates to homogeneous coordinates\n",
    "\n",
    "    add one coordinate with value 1\"\"\"\n",
    "    return np.vstack((p, np.ones(p.shape[1])))\n",
    "\n",
    "def projectpoints(K, R, t, Q):\n",
    "    \"\"\"project 3D points to 2D\"\"\"\n",
    "    Rt = np.concatenate((R, t), axis=1)\n",
    "    return Pi(K @ Rt @ PiInv(Q))\n",
    "\n",
    "K = np.array([[350, 0, 700], [0, 350, 390], [0, 0, 1]])\n",
    "R = cv2.Rodrigues(np.array([0.1, -0.2, -0.1]))[0]\n",
    "t = np.array([[0.03], [0.06], [-0.02]])\n",
    "Q = np.array([0.35, 0.17, 1.01]).reshape(-1, 1)\n",
    "projectpoints(K, R, t, Q)"
   ]
  },
  {
   "cell_type": "code",
   "execution_count": 11,
   "metadata": {},
   "outputs": [],
   "source": [
    "# 4\n",
    "harris = np.load(\"data/harris.npy\", allow_pickle=True).item()"
   ]
  },
  {
   "cell_type": "code",
   "execution_count": 12,
   "metadata": {},
   "outputs": [
    {
     "data": {
      "text/plain": [
       "array([[19.9556, 23.2654, 27.1786, 28.2686, 27.6734],\n",
       "       [21.9836, 27.165 , 30.7466, 32.315 , 30.42  ],\n",
       "       [22.0716, 27.07  , 30.3896, 31.9756, 30.3554],\n",
       "       [19.1176, 24.135 , 27.825 , 29.51  , 28.1996],\n",
       "       [16.0376, 19.4714, 23.12  , 24.675 , 24.845 ]])"
      ]
     },
     "execution_count": 12,
     "metadata": {},
     "output_type": "execute_result"
    }
   ],
   "source": [
    "a = harris['g*(I_x^2)']\n",
    "b = harris['g*(I_y^2)']\n",
    "c = harris['g*(I_x I_y)']\n",
    "k=0.06\n",
    "r = a * b - c**2 - k*(a + b)**2\n",
    "r"
   ]
  },
  {
   "cell_type": "code",
   "execution_count": 10,
   "metadata": {},
   "outputs": [
    {
     "data": {
      "text/plain": [
       "[(1, 3)]"
      ]
     },
     "execution_count": 10,
     "metadata": {},
     "output_type": "execute_result"
    }
   ],
   "source": [
    "tau = 0.01\n",
    "I = r > tau\n",
    "corners = []\n",
    "for i in range(1, r.shape[0]-1):\n",
    "    for j in range(1, r.shape[1]-1):\n",
    "        if I[i,j] :\n",
    "            if r[i,j] > r[i+1,j] and r[i,j] > r[i-1,j] and r[i,j] > r[i,j+1] and r[i,j] > r[i,j-1]:\n",
    "                corners.append((i,j))\n",
    "corners\n",
    "# svar h"
   ]
  }
 ],
 "metadata": {
  "kernelspec": {
   "display_name": "base",
   "language": "python",
   "name": "python3"
  },
  "language_info": {
   "codemirror_mode": {
    "name": "ipython",
    "version": 3
   },
   "file_extension": ".py",
   "mimetype": "text/x-python",
   "name": "python",
   "nbconvert_exporter": "python",
   "pygments_lexer": "ipython3",
   "version": "3.10.11"
  },
  "orig_nbformat": 4
 },
 "nbformat": 4,
 "nbformat_minor": 2
}
